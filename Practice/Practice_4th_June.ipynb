{
  "nbformat": 4,
  "nbformat_minor": 0,
  "metadata": {
    "colab": {
      "provenance": [],
      "authorship_tag": "ABX9TyPQ/1zUn9Oweum6WRF4E6K3"
    },
    "kernelspec": {
      "name": "python3",
      "display_name": "Python 3"
    },
    "language_info": {
      "name": "python"
    }
  },
  "cells": [
    {
      "cell_type": "markdown",
      "source": [
        "**a=a+b is not always equal to a+=b**"
      ],
      "metadata": {
        "id": "FWYGAiILFQU5"
      }
    },
    {
      "cell_type": "code",
      "execution_count": 2,
      "metadata": {
        "colab": {
          "base_uri": "https://localhost:8080/"
        },
        "id": "Kq9nHDCaWAic",
        "outputId": "812c1839-337b-47bc-8ad9-fe517c4d8722"
      },
      "outputs": [
        {
          "output_type": "stream",
          "name": "stdout",
          "text": [
            "[1, 2, 3, 4, 5, 4, 6]\n",
            "[1, 2, 3, 4]\n"
          ]
        }
      ],
      "source": [
        "\n",
        "list1=[1,2,3,4]\n",
        "list2=list1\n",
        "list3=[5,4,6]\n",
        "list1=list1+list3\n",
        "print(list1)\n",
        "print(list2)"
      ]
    },
    {
      "cell_type": "code",
      "source": [
        "a=[1,2,3,4]\n",
        "c=[5,4,6]\n",
        "b=a\n",
        "a+=c\n",
        "print(a)\n",
        "print(b)\n"
      ],
      "metadata": {
        "id": "jWDInLZBWMzr",
        "colab": {
          "base_uri": "https://localhost:8080/"
        },
        "outputId": "e2ce5352-2f51-4262-bea5-dd9a5646d1d2"
      },
      "execution_count": 4,
      "outputs": [
        {
          "output_type": "stream",
          "name": "stdout",
          "text": [
            "[1, 2, 3, 4, 5, 4, 6]\n",
            "[1, 2, 3, 4, 5, 4, 6]\n"
          ]
        }
      ]
    },
    {
      "cell_type": "code",
      "source": [],
      "metadata": {
        "id": "biozEXQvF-Rc"
      },
      "execution_count": null,
      "outputs": []
    },
    {
      "cell_type": "markdown",
      "source": [
        "**Operator Overloading**\n",
        "\n",
        "Extending the function of the operator beyond its predefined function."
      ],
      "metadata": {
        "id": "Z1o2VrxSIIU7"
      }
    },
    {
      "cell_type": "code",
      "source": [
        "class complex:\n",
        "  def __init__(self,a,b):\n",
        "    self.a=a\n",
        "    self.b=b\n",
        "  def __add__(self,other):\n",
        "    return self.a+other.a,self.b- other.b\n",
        "obj1=complex(1,2)\n",
        "obj2=complex(3,4)\n",
        "obj1+obj2"
      ],
      "metadata": {
        "colab": {
          "base_uri": "https://localhost:8080/"
        },
        "id": "f6TFYBIMIMn5",
        "outputId": "2bedc9c1-270c-49be-a89e-c162787edcee"
      },
      "execution_count": 6,
      "outputs": [
        {
          "output_type": "execute_result",
          "data": {
            "text/plain": [
              "(4, -2)"
            ]
          },
          "metadata": {},
          "execution_count": 6
        }
      ]
    },
    {
      "cell_type": "code",
      "source": [
        "class change:\n",
        "  def __init__(self,a):\n",
        "    self.a=a\n",
        "  def __add__(self,x):\n",
        "    return self.a-x.a\n",
        "\n",
        "obj1=change(2)\n",
        "obj2=change(3)\n",
        "print(obj1+obj2 )\n",
        "x=3\n",
        "y=6\n",
        "print(x+y)"
      ],
      "metadata": {
        "colab": {
          "base_uri": "https://localhost:8080/"
        },
        "id": "JOen-1KEI66b",
        "outputId": "4da27b1a-3b1f-4492-d3a7-b2398594a2e6"
      },
      "execution_count": 10,
      "outputs": [
        {
          "output_type": "stream",
          "name": "stdout",
          "text": [
            "-1\n",
            "9\n"
          ]
        }
      ]
    },
    {
      "cell_type": "markdown",
      "source": [
        "**Method Overloading**  - Two or more methods have the same name but different numbers of parameters or different types of parameters, or both. These methods are called overloaded methods and this is called method overloading."
      ],
      "metadata": {
        "id": "jJPj_FKTQphm"
      }
    },
    {
      "cell_type": "code",
      "source": [
        "from multipledispatch import dispatch\n",
        "\n",
        "@dispatch(int,int)\n",
        "def product(x,y):\n",
        "  return x*y\n",
        "\n",
        "@dispatch(float,float)\n",
        "def product(x,y):\n",
        "  return x+y\n",
        "\n",
        "@dispatch(int,int,int)\n",
        "def product(a,b,c):\n",
        "  return a+b-c\n",
        "\n",
        "print(product(5.3,1.1))\n",
        "print(product(2,6))\n",
        "print(product(1,2,3))\n",
        "\n"
      ],
      "metadata": {
        "colab": {
          "base_uri": "https://localhost:8080/"
        },
        "id": "ZLhCWggXLulM",
        "outputId": "5ca5c9e0-7ad7-4c75-b979-8fea757dd9f0"
      },
      "execution_count": 15,
      "outputs": [
        {
          "output_type": "stream",
          "name": "stdout",
          "text": [
            "6.4\n",
            "12\n",
            "0\n"
          ]
        }
      ]
    },
    {
      "cell_type": "code",
      "source": [],
      "metadata": {
        "id": "7jAjUX-OQTUI"
      },
      "execution_count": null,
      "outputs": []
    },
    {
      "cell_type": "markdown",
      "source": [
        "**Polymorphism using Functions and Objects**"
      ],
      "metadata": {
        "id": "szEKwv0KSf6u"
      }
    },
    {
      "cell_type": "code",
      "source": [
        "class FBpost:\n",
        "   def __init__(self,x):\n",
        "    self.x=x\n",
        "   def title(self):\n",
        "      print(\"I am a FB post\")\n",
        "   def likes(self):\n",
        "      print(f\"I have {self.x} likes\")\n",
        "class IGpost:\n",
        "  def __init__(self,x):\n",
        "    self.x=x\n",
        "  def title(self):\n",
        "    print(\"I am an IG post\")\n",
        "  def likes(self):\n",
        "    print(f\"I have {self.x} likes\")\n",
        "def func(A):\n",
        "  A.title()\n",
        "  A.likes()\n",
        "obj1=FBpost(20)\n",
        "obj2=IGpost(30)\n",
        "func(obj1)\n",
        "func(obj2)\n"
      ],
      "metadata": {
        "colab": {
          "base_uri": "https://localhost:8080/"
        },
        "id": "hRefTXaHSmu-",
        "outputId": "6e227bb4-28ca-4220-d74f-7964ec3c9b26"
      },
      "execution_count": 18,
      "outputs": [
        {
          "output_type": "stream",
          "name": "stdout",
          "text": [
            "I am a FB post\n",
            "I have 20 likes\n",
            "I am an IG post\n",
            "I have 30 likes\n"
          ]
        }
      ]
    },
    {
      "cell_type": "markdown",
      "source": [
        "**Polymorphism with inheitance**"
      ],
      "metadata": {
        "id": "kiHIpchCU6ar"
      }
    },
    {
      "cell_type": "code",
      "source": [
        "class Birds:\n",
        "  def intro(self):\n",
        "    print(\"I am a bird\")\n",
        "  def flight(self):\n",
        "    print(\"I can fly\")\n",
        "class sparrow(Birds):\n",
        "  def flight(self):\n",
        "    print(\"I can fly to a decent height\")\n",
        "class ostrich(Birds):\n",
        "  def flight(self):\n",
        "    print(\"I cannott fly, but i run really fast\")\n",
        "\n",
        "obj1=sparrow()\n",
        "obj2=ostrich()\n",
        "obj1.intro()\n",
        "obj1.flight()\n",
        "obj2.intro()\n",
        "obj2.flight()"
      ],
      "metadata": {
        "colab": {
          "base_uri": "https://localhost:8080/"
        },
        "id": "YMxM5Of2UCnu",
        "outputId": "f5926120-4219-4d6e-f715-edd96defb300"
      },
      "execution_count": 23,
      "outputs": [
        {
          "output_type": "stream",
          "name": "stdout",
          "text": [
            "I am a bird\n",
            "I can fly to a decent height\n",
            "I am a bird\n",
            "I cannott fly, but i run really fast\n"
          ]
        }
      ]
    },
    {
      "cell_type": "code",
      "source": [],
      "metadata": {
        "id": "QYYqesscXBjI"
      },
      "execution_count": null,
      "outputs": []
    },
    {
      "cell_type": "markdown",
      "source": [
        "**Inheritance**"
      ],
      "metadata": {
        "id": "4_4ZyS2FfiXn"
      }
    },
    {
      "cell_type": "markdown",
      "source": [
        "**Single Inheritance**"
      ],
      "metadata": {
        "id": "hnqaeMmtlRyG"
      }
    },
    {
      "cell_type": "code",
      "source": [
        "class Vehicle:\n",
        "  def intro(self):\n",
        "    print(\"Inside Vehicle Parent class\")\n",
        "  def wheels(self):\n",
        "    print(\"i have wheels\")\n",
        "class car(Vehicle):\n",
        "  def wheels(self):\n",
        "    print(\"I have 4 wheels\")\n",
        "Car=car()\n",
        "Car.wheels()\n",
        "\n"
      ],
      "metadata": {
        "colab": {
          "base_uri": "https://localhost:8080/"
        },
        "id": "7CJOFpRlkM_5",
        "outputId": "a85ec45d-6dd7-4e45-d80b-987726c2ba02"
      },
      "execution_count": 24,
      "outputs": [
        {
          "output_type": "stream",
          "name": "stdout",
          "text": [
            "I have 4 wheels\n"
          ]
        }
      ]
    },
    {
      "cell_type": "code",
      "source": [],
      "metadata": {
        "id": "NhTsUGtQlPSd"
      },
      "execution_count": null,
      "outputs": []
    }
  ]
}