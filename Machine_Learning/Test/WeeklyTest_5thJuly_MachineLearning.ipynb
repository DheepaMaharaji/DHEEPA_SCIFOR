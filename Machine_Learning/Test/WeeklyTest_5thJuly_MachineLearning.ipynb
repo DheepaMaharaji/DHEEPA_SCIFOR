{
  "nbformat": 4,
  "nbformat_minor": 0,
  "metadata": {
    "colab": {
      "provenance": [],
      "authorship_tag": "ABX9TyPix97MobY+0XRKL+3V5cSj",
      "include_colab_link": true
    },
    "kernelspec": {
      "name": "python3",
      "display_name": "Python 3"
    },
    "language_info": {
      "name": "python"
    }
  },
  "cells": [
    {
      "cell_type": "markdown",
      "metadata": {
        "id": "view-in-github",
        "colab_type": "text"
      },
      "source": [
        "<a href=\"https://colab.research.google.com/github/DheepaMaharaji/DHEEPA_SCIFOR/blob/main/Machine_Learning/Test/WeeklyTest_5thJuly_MachineLearning.ipynb\" target=\"_parent\"><img src=\"https://colab.research.google.com/assets/colab-badge.svg\" alt=\"Open In Colab\"/></a>"
      ]
    },
    {
      "cell_type": "code",
      "execution_count": 22,
      "metadata": {
        "id": "UfWBnq09Jse0"
      },
      "outputs": [],
      "source": [
        "import numpy as np\n",
        "import pandas as pd\n",
        "import matplotlib.pyplot as plt\n",
        "import seaborn as sns"
      ]
    },
    {
      "cell_type": "code",
      "source": [
        "data= pd.read_csv(\"/content/Pima Indians Diabetes Database.csv\")"
      ],
      "metadata": {
        "id": "mBSqf1lWKbW5"
      },
      "execution_count": 7,
      "outputs": []
    },
    {
      "cell_type": "code",
      "source": [
        "print(data)"
      ],
      "metadata": {
        "colab": {
          "base_uri": "https://localhost:8080/"
        },
        "id": "w-AcuDFIKza4",
        "outputId": "749c958d-19ac-4a95-ecfd-41593bb6fc29"
      },
      "execution_count": 8,
      "outputs": [
        {
          "output_type": "stream",
          "name": "stdout",
          "text": [
            "     Number of times pregnant  \\\n",
            "0                           6   \n",
            "1                           1   \n",
            "2                           8   \n",
            "3                           1   \n",
            "4                           0   \n",
            "..                        ...   \n",
            "763                        10   \n",
            "764                         2   \n",
            "765                         5   \n",
            "766                         1   \n",
            "767                         1   \n",
            "\n",
            "     Plasma glucose concentration a 2 hours in an oral glucose tolerance test  \\\n",
            "0                                                  148                          \n",
            "1                                                   85                          \n",
            "2                                                  183                          \n",
            "3                                                   89                          \n",
            "4                                                  137                          \n",
            "..                                                 ...                          \n",
            "763                                                101                          \n",
            "764                                                122                          \n",
            "765                                                121                          \n",
            "766                                                126                          \n",
            "767                                                 93                          \n",
            "\n",
            "     Diastolic blood pressure (mm Hg)  Triceps skin fold thickness (mm)  \\\n",
            "0                                  72                                35   \n",
            "1                                  66                                29   \n",
            "2                                  64                                 0   \n",
            "3                                  66                                23   \n",
            "4                                  40                                35   \n",
            "..                                ...                               ...   \n",
            "763                                76                                48   \n",
            "764                                70                                27   \n",
            "765                                72                                23   \n",
            "766                                60                                 0   \n",
            "767                                70                                31   \n",
            "\n",
            "     2-Hour serum insulin (mu U/ml)  \\\n",
            "0                                 0   \n",
            "1                                 0   \n",
            "2                                 0   \n",
            "3                                94   \n",
            "4                               168   \n",
            "..                              ...   \n",
            "763                             180   \n",
            "764                               0   \n",
            "765                             112   \n",
            "766                               0   \n",
            "767                               0   \n",
            "\n",
            "     Body mass index (weight in kg/(height in m)^2)  \\\n",
            "0                                              33.6   \n",
            "1                                              26.6   \n",
            "2                                              23.3   \n",
            "3                                              28.1   \n",
            "4                                              43.1   \n",
            "..                                              ...   \n",
            "763                                            32.9   \n",
            "764                                            36.8   \n",
            "765                                            26.2   \n",
            "766                                            30.1   \n",
            "767                                            30.4   \n",
            "\n",
            "     Diabetes pedigree function  Age (years)  Class variable (0 or 1)  \n",
            "0                         0.627           50                        1  \n",
            "1                         0.351           31                        0  \n",
            "2                         0.672           32                        1  \n",
            "3                         0.167           21                        0  \n",
            "4                         2.288           33                        1  \n",
            "..                          ...          ...                      ...  \n",
            "763                       0.171           63                        0  \n",
            "764                       0.340           27                        0  \n",
            "765                       0.245           30                        0  \n",
            "766                       0.349           47                        1  \n",
            "767                       0.315           23                        0  \n",
            "\n",
            "[768 rows x 9 columns]\n"
          ]
        }
      ]
    },
    {
      "cell_type": "code",
      "source": [
        "data.isnull().sum()"
      ],
      "metadata": {
        "colab": {
          "base_uri": "https://localhost:8080/"
        },
        "id": "A3x_VOGlK0xy",
        "outputId": "149f5028-1695-4af0-aca9-346009c9aa5a"
      },
      "execution_count": 11,
      "outputs": [
        {
          "output_type": "execute_result",
          "data": {
            "text/plain": [
              "Number of times pregnant                                                    0\n",
              "Plasma glucose concentration a 2 hours in an oral glucose tolerance test    0\n",
              "Diastolic blood pressure (mm Hg)                                            0\n",
              "Triceps skin fold thickness (mm)                                            0\n",
              "2-Hour serum insulin (mu U/ml)                                              0\n",
              "Body mass index (weight in kg/(height in m)^2)                              0\n",
              "Diabetes pedigree function                                                  0\n",
              "Age (years)                                                                 0\n",
              "Class variable (0 or 1)                                                     0\n",
              "dtype: int64"
            ]
          },
          "metadata": {},
          "execution_count": 11
        }
      ]
    },
    {
      "cell_type": "code",
      "source": [
        "data.describe()"
      ],
      "metadata": {
        "colab": {
          "base_uri": "https://localhost:8080/",
          "height": 369
        },
        "id": "mPnr5JkMLeOa",
        "outputId": "059d5377-36f7-4169-968f-59e33304f413"
      },
      "execution_count": 12,
      "outputs": [
        {
          "output_type": "execute_result",
          "data": {
            "text/plain": [
              "       Number of times pregnant  \\\n",
              "count                768.000000   \n",
              "mean                   3.845052   \n",
              "std                    3.369578   \n",
              "min                    0.000000   \n",
              "25%                    1.000000   \n",
              "50%                    3.000000   \n",
              "75%                    6.000000   \n",
              "max                   17.000000   \n",
              "\n",
              "       Plasma glucose concentration a 2 hours in an oral glucose tolerance test  \\\n",
              "count                                         768.000000                          \n",
              "mean                                          120.894531                          \n",
              "std                                            31.972618                          \n",
              "min                                             0.000000                          \n",
              "25%                                            99.000000                          \n",
              "50%                                           117.000000                          \n",
              "75%                                           140.250000                          \n",
              "max                                           199.000000                          \n",
              "\n",
              "       Diastolic blood pressure (mm Hg)  Triceps skin fold thickness (mm)  \\\n",
              "count                        768.000000                        768.000000   \n",
              "mean                          69.105469                         20.536458   \n",
              "std                           19.355807                         15.952218   \n",
              "min                            0.000000                          0.000000   \n",
              "25%                           62.000000                          0.000000   \n",
              "50%                           72.000000                         23.000000   \n",
              "75%                           80.000000                         32.000000   \n",
              "max                          122.000000                         99.000000   \n",
              "\n",
              "       2-Hour serum insulin (mu U/ml)  \\\n",
              "count                      768.000000   \n",
              "mean                        79.799479   \n",
              "std                        115.244002   \n",
              "min                          0.000000   \n",
              "25%                          0.000000   \n",
              "50%                         30.500000   \n",
              "75%                        127.250000   \n",
              "max                        846.000000   \n",
              "\n",
              "       Body mass index (weight in kg/(height in m)^2)  \\\n",
              "count                                      768.000000   \n",
              "mean                                        31.992578   \n",
              "std                                          7.884160   \n",
              "min                                          0.000000   \n",
              "25%                                         27.300000   \n",
              "50%                                         32.000000   \n",
              "75%                                         36.600000   \n",
              "max                                         67.100000   \n",
              "\n",
              "       Diabetes pedigree function  Age (years)  Class variable (0 or 1)  \n",
              "count                  768.000000   768.000000               768.000000  \n",
              "mean                     0.471876    33.240885                 0.348958  \n",
              "std                      0.331329    11.760232                 0.476951  \n",
              "min                      0.078000    21.000000                 0.000000  \n",
              "25%                      0.243750    24.000000                 0.000000  \n",
              "50%                      0.372500    29.000000                 0.000000  \n",
              "75%                      0.626250    41.000000                 1.000000  \n",
              "max                      2.420000    81.000000                 1.000000  "
            ],
            "text/html": [
              "\n",
              "  <div id=\"df-7a6f9524-3a16-4dbe-9f56-cf3062e40198\" class=\"colab-df-container\">\n",
              "    <div>\n",
              "<style scoped>\n",
              "    .dataframe tbody tr th:only-of-type {\n",
              "        vertical-align: middle;\n",
              "    }\n",
              "\n",
              "    .dataframe tbody tr th {\n",
              "        vertical-align: top;\n",
              "    }\n",
              "\n",
              "    .dataframe thead th {\n",
              "        text-align: right;\n",
              "    }\n",
              "</style>\n",
              "<table border=\"1\" class=\"dataframe\">\n",
              "  <thead>\n",
              "    <tr style=\"text-align: right;\">\n",
              "      <th></th>\n",
              "      <th>Number of times pregnant</th>\n",
              "      <th>Plasma glucose concentration a 2 hours in an oral glucose tolerance test</th>\n",
              "      <th>Diastolic blood pressure (mm Hg)</th>\n",
              "      <th>Triceps skin fold thickness (mm)</th>\n",
              "      <th>2-Hour serum insulin (mu U/ml)</th>\n",
              "      <th>Body mass index (weight in kg/(height in m)^2)</th>\n",
              "      <th>Diabetes pedigree function</th>\n",
              "      <th>Age (years)</th>\n",
              "      <th>Class variable (0 or 1)</th>\n",
              "    </tr>\n",
              "  </thead>\n",
              "  <tbody>\n",
              "    <tr>\n",
              "      <th>count</th>\n",
              "      <td>768.000000</td>\n",
              "      <td>768.000000</td>\n",
              "      <td>768.000000</td>\n",
              "      <td>768.000000</td>\n",
              "      <td>768.000000</td>\n",
              "      <td>768.000000</td>\n",
              "      <td>768.000000</td>\n",
              "      <td>768.000000</td>\n",
              "      <td>768.000000</td>\n",
              "    </tr>\n",
              "    <tr>\n",
              "      <th>mean</th>\n",
              "      <td>3.845052</td>\n",
              "      <td>120.894531</td>\n",
              "      <td>69.105469</td>\n",
              "      <td>20.536458</td>\n",
              "      <td>79.799479</td>\n",
              "      <td>31.992578</td>\n",
              "      <td>0.471876</td>\n",
              "      <td>33.240885</td>\n",
              "      <td>0.348958</td>\n",
              "    </tr>\n",
              "    <tr>\n",
              "      <th>std</th>\n",
              "      <td>3.369578</td>\n",
              "      <td>31.972618</td>\n",
              "      <td>19.355807</td>\n",
              "      <td>15.952218</td>\n",
              "      <td>115.244002</td>\n",
              "      <td>7.884160</td>\n",
              "      <td>0.331329</td>\n",
              "      <td>11.760232</td>\n",
              "      <td>0.476951</td>\n",
              "    </tr>\n",
              "    <tr>\n",
              "      <th>min</th>\n",
              "      <td>0.000000</td>\n",
              "      <td>0.000000</td>\n",
              "      <td>0.000000</td>\n",
              "      <td>0.000000</td>\n",
              "      <td>0.000000</td>\n",
              "      <td>0.000000</td>\n",
              "      <td>0.078000</td>\n",
              "      <td>21.000000</td>\n",
              "      <td>0.000000</td>\n",
              "    </tr>\n",
              "    <tr>\n",
              "      <th>25%</th>\n",
              "      <td>1.000000</td>\n",
              "      <td>99.000000</td>\n",
              "      <td>62.000000</td>\n",
              "      <td>0.000000</td>\n",
              "      <td>0.000000</td>\n",
              "      <td>27.300000</td>\n",
              "      <td>0.243750</td>\n",
              "      <td>24.000000</td>\n",
              "      <td>0.000000</td>\n",
              "    </tr>\n",
              "    <tr>\n",
              "      <th>50%</th>\n",
              "      <td>3.000000</td>\n",
              "      <td>117.000000</td>\n",
              "      <td>72.000000</td>\n",
              "      <td>23.000000</td>\n",
              "      <td>30.500000</td>\n",
              "      <td>32.000000</td>\n",
              "      <td>0.372500</td>\n",
              "      <td>29.000000</td>\n",
              "      <td>0.000000</td>\n",
              "    </tr>\n",
              "    <tr>\n",
              "      <th>75%</th>\n",
              "      <td>6.000000</td>\n",
              "      <td>140.250000</td>\n",
              "      <td>80.000000</td>\n",
              "      <td>32.000000</td>\n",
              "      <td>127.250000</td>\n",
              "      <td>36.600000</td>\n",
              "      <td>0.626250</td>\n",
              "      <td>41.000000</td>\n",
              "      <td>1.000000</td>\n",
              "    </tr>\n",
              "    <tr>\n",
              "      <th>max</th>\n",
              "      <td>17.000000</td>\n",
              "      <td>199.000000</td>\n",
              "      <td>122.000000</td>\n",
              "      <td>99.000000</td>\n",
              "      <td>846.000000</td>\n",
              "      <td>67.100000</td>\n",
              "      <td>2.420000</td>\n",
              "      <td>81.000000</td>\n",
              "      <td>1.000000</td>\n",
              "    </tr>\n",
              "  </tbody>\n",
              "</table>\n",
              "</div>\n",
              "    <div class=\"colab-df-buttons\">\n",
              "\n",
              "  <div class=\"colab-df-container\">\n",
              "    <button class=\"colab-df-convert\" onclick=\"convertToInteractive('df-7a6f9524-3a16-4dbe-9f56-cf3062e40198')\"\n",
              "            title=\"Convert this dataframe to an interactive table.\"\n",
              "            style=\"display:none;\">\n",
              "\n",
              "  <svg xmlns=\"http://www.w3.org/2000/svg\" height=\"24px\" viewBox=\"0 -960 960 960\">\n",
              "    <path d=\"M120-120v-720h720v720H120Zm60-500h600v-160H180v160Zm220 220h160v-160H400v160Zm0 220h160v-160H400v160ZM180-400h160v-160H180v160Zm440 0h160v-160H620v160ZM180-180h160v-160H180v160Zm440 0h160v-160H620v160Z\"/>\n",
              "  </svg>\n",
              "    </button>\n",
              "\n",
              "  <style>\n",
              "    .colab-df-container {\n",
              "      display:flex;\n",
              "      gap: 12px;\n",
              "    }\n",
              "\n",
              "    .colab-df-convert {\n",
              "      background-color: #E8F0FE;\n",
              "      border: none;\n",
              "      border-radius: 50%;\n",
              "      cursor: pointer;\n",
              "      display: none;\n",
              "      fill: #1967D2;\n",
              "      height: 32px;\n",
              "      padding: 0 0 0 0;\n",
              "      width: 32px;\n",
              "    }\n",
              "\n",
              "    .colab-df-convert:hover {\n",
              "      background-color: #E2EBFA;\n",
              "      box-shadow: 0px 1px 2px rgba(60, 64, 67, 0.3), 0px 1px 3px 1px rgba(60, 64, 67, 0.15);\n",
              "      fill: #174EA6;\n",
              "    }\n",
              "\n",
              "    .colab-df-buttons div {\n",
              "      margin-bottom: 4px;\n",
              "    }\n",
              "\n",
              "    [theme=dark] .colab-df-convert {\n",
              "      background-color: #3B4455;\n",
              "      fill: #D2E3FC;\n",
              "    }\n",
              "\n",
              "    [theme=dark] .colab-df-convert:hover {\n",
              "      background-color: #434B5C;\n",
              "      box-shadow: 0px 1px 3px 1px rgba(0, 0, 0, 0.15);\n",
              "      filter: drop-shadow(0px 1px 2px rgba(0, 0, 0, 0.3));\n",
              "      fill: #FFFFFF;\n",
              "    }\n",
              "  </style>\n",
              "\n",
              "    <script>\n",
              "      const buttonEl =\n",
              "        document.querySelector('#df-7a6f9524-3a16-4dbe-9f56-cf3062e40198 button.colab-df-convert');\n",
              "      buttonEl.style.display =\n",
              "        google.colab.kernel.accessAllowed ? 'block' : 'none';\n",
              "\n",
              "      async function convertToInteractive(key) {\n",
              "        const element = document.querySelector('#df-7a6f9524-3a16-4dbe-9f56-cf3062e40198');\n",
              "        const dataTable =\n",
              "          await google.colab.kernel.invokeFunction('convertToInteractive',\n",
              "                                                    [key], {});\n",
              "        if (!dataTable) return;\n",
              "\n",
              "        const docLinkHtml = 'Like what you see? Visit the ' +\n",
              "          '<a target=\"_blank\" href=https://colab.research.google.com/notebooks/data_table.ipynb>data table notebook</a>'\n",
              "          + ' to learn more about interactive tables.';\n",
              "        element.innerHTML = '';\n",
              "        dataTable['output_type'] = 'display_data';\n",
              "        await google.colab.output.renderOutput(dataTable, element);\n",
              "        const docLink = document.createElement('div');\n",
              "        docLink.innerHTML = docLinkHtml;\n",
              "        element.appendChild(docLink);\n",
              "      }\n",
              "    </script>\n",
              "  </div>\n",
              "\n",
              "\n",
              "<div id=\"df-27bbd9dc-9a01-4b30-a23c-209a898332eb\">\n",
              "  <button class=\"colab-df-quickchart\" onclick=\"quickchart('df-27bbd9dc-9a01-4b30-a23c-209a898332eb')\"\n",
              "            title=\"Suggest charts\"\n",
              "            style=\"display:none;\">\n",
              "\n",
              "<svg xmlns=\"http://www.w3.org/2000/svg\" height=\"24px\"viewBox=\"0 0 24 24\"\n",
              "     width=\"24px\">\n",
              "    <g>\n",
              "        <path d=\"M19 3H5c-1.1 0-2 .9-2 2v14c0 1.1.9 2 2 2h14c1.1 0 2-.9 2-2V5c0-1.1-.9-2-2-2zM9 17H7v-7h2v7zm4 0h-2V7h2v10zm4 0h-2v-4h2v4z\"/>\n",
              "    </g>\n",
              "</svg>\n",
              "  </button>\n",
              "\n",
              "<style>\n",
              "  .colab-df-quickchart {\n",
              "      --bg-color: #E8F0FE;\n",
              "      --fill-color: #1967D2;\n",
              "      --hover-bg-color: #E2EBFA;\n",
              "      --hover-fill-color: #174EA6;\n",
              "      --disabled-fill-color: #AAA;\n",
              "      --disabled-bg-color: #DDD;\n",
              "  }\n",
              "\n",
              "  [theme=dark] .colab-df-quickchart {\n",
              "      --bg-color: #3B4455;\n",
              "      --fill-color: #D2E3FC;\n",
              "      --hover-bg-color: #434B5C;\n",
              "      --hover-fill-color: #FFFFFF;\n",
              "      --disabled-bg-color: #3B4455;\n",
              "      --disabled-fill-color: #666;\n",
              "  }\n",
              "\n",
              "  .colab-df-quickchart {\n",
              "    background-color: var(--bg-color);\n",
              "    border: none;\n",
              "    border-radius: 50%;\n",
              "    cursor: pointer;\n",
              "    display: none;\n",
              "    fill: var(--fill-color);\n",
              "    height: 32px;\n",
              "    padding: 0;\n",
              "    width: 32px;\n",
              "  }\n",
              "\n",
              "  .colab-df-quickchart:hover {\n",
              "    background-color: var(--hover-bg-color);\n",
              "    box-shadow: 0 1px 2px rgba(60, 64, 67, 0.3), 0 1px 3px 1px rgba(60, 64, 67, 0.15);\n",
              "    fill: var(--button-hover-fill-color);\n",
              "  }\n",
              "\n",
              "  .colab-df-quickchart-complete:disabled,\n",
              "  .colab-df-quickchart-complete:disabled:hover {\n",
              "    background-color: var(--disabled-bg-color);\n",
              "    fill: var(--disabled-fill-color);\n",
              "    box-shadow: none;\n",
              "  }\n",
              "\n",
              "  .colab-df-spinner {\n",
              "    border: 2px solid var(--fill-color);\n",
              "    border-color: transparent;\n",
              "    border-bottom-color: var(--fill-color);\n",
              "    animation:\n",
              "      spin 1s steps(1) infinite;\n",
              "  }\n",
              "\n",
              "  @keyframes spin {\n",
              "    0% {\n",
              "      border-color: transparent;\n",
              "      border-bottom-color: var(--fill-color);\n",
              "      border-left-color: var(--fill-color);\n",
              "    }\n",
              "    20% {\n",
              "      border-color: transparent;\n",
              "      border-left-color: var(--fill-color);\n",
              "      border-top-color: var(--fill-color);\n",
              "    }\n",
              "    30% {\n",
              "      border-color: transparent;\n",
              "      border-left-color: var(--fill-color);\n",
              "      border-top-color: var(--fill-color);\n",
              "      border-right-color: var(--fill-color);\n",
              "    }\n",
              "    40% {\n",
              "      border-color: transparent;\n",
              "      border-right-color: var(--fill-color);\n",
              "      border-top-color: var(--fill-color);\n",
              "    }\n",
              "    60% {\n",
              "      border-color: transparent;\n",
              "      border-right-color: var(--fill-color);\n",
              "    }\n",
              "    80% {\n",
              "      border-color: transparent;\n",
              "      border-right-color: var(--fill-color);\n",
              "      border-bottom-color: var(--fill-color);\n",
              "    }\n",
              "    90% {\n",
              "      border-color: transparent;\n",
              "      border-bottom-color: var(--fill-color);\n",
              "    }\n",
              "  }\n",
              "</style>\n",
              "\n",
              "  <script>\n",
              "    async function quickchart(key) {\n",
              "      const quickchartButtonEl =\n",
              "        document.querySelector('#' + key + ' button');\n",
              "      quickchartButtonEl.disabled = true;  // To prevent multiple clicks.\n",
              "      quickchartButtonEl.classList.add('colab-df-spinner');\n",
              "      try {\n",
              "        const charts = await google.colab.kernel.invokeFunction(\n",
              "            'suggestCharts', [key], {});\n",
              "      } catch (error) {\n",
              "        console.error('Error during call to suggestCharts:', error);\n",
              "      }\n",
              "      quickchartButtonEl.classList.remove('colab-df-spinner');\n",
              "      quickchartButtonEl.classList.add('colab-df-quickchart-complete');\n",
              "    }\n",
              "    (() => {\n",
              "      let quickchartButtonEl =\n",
              "        document.querySelector('#df-27bbd9dc-9a01-4b30-a23c-209a898332eb button');\n",
              "      quickchartButtonEl.style.display =\n",
              "        google.colab.kernel.accessAllowed ? 'block' : 'none';\n",
              "    })();\n",
              "  </script>\n",
              "</div>\n",
              "\n",
              "    </div>\n",
              "  </div>\n"
            ],
            "application/vnd.google.colaboratory.intrinsic+json": {
              "type": "dataframe",
              "summary": "{\n  \"name\": \"data\",\n  \"rows\": 8,\n  \"fields\": [\n    {\n      \"column\": \"Number of times pregnant\",\n      \"properties\": {\n        \"dtype\": \"number\",\n        \"std\": 269.85223453356366,\n        \"min\": 0.0,\n        \"max\": 768.0,\n        \"num_unique_values\": 8,\n        \"samples\": [\n          3.8450520833333335,\n          3.0,\n          768.0\n        ],\n        \"semantic_type\": \"\",\n        \"description\": \"\"\n      }\n    },\n    {\n      \"column\": \"Plasma glucose concentration a 2 hours in an oral glucose tolerance test\",\n      \"properties\": {\n        \"dtype\": \"number\",\n        \"std\": 243.73802348295857,\n        \"min\": 0.0,\n        \"max\": 768.0,\n        \"num_unique_values\": 8,\n        \"samples\": [\n          120.89453125,\n          117.0,\n          768.0\n        ],\n        \"semantic_type\": \"\",\n        \"description\": \"\"\n      }\n    },\n    {\n      \"column\": \"Diastolic blood pressure (mm Hg)\",\n      \"properties\": {\n        \"dtype\": \"number\",\n        \"std\": 252.8525053581062,\n        \"min\": 0.0,\n        \"max\": 768.0,\n        \"num_unique_values\": 8,\n        \"samples\": [\n          69.10546875,\n          72.0,\n          768.0\n        ],\n        \"semantic_type\": \"\",\n        \"description\": \"\"\n      }\n    },\n    {\n      \"column\": \"Triceps skin fold thickness (mm)\",\n      \"properties\": {\n        \"dtype\": \"number\",\n        \"std\": 263.7684730531098,\n        \"min\": 0.0,\n        \"max\": 768.0,\n        \"num_unique_values\": 7,\n        \"samples\": [\n          768.0,\n          20.536458333333332,\n          32.0\n        ],\n        \"semantic_type\": \"\",\n        \"description\": \"\"\n      }\n    },\n    {\n      \"column\": \"2-Hour serum insulin (mu U/ml)\",\n      \"properties\": {\n        \"dtype\": \"number\",\n        \"std\": 350.26059167945886,\n        \"min\": 0.0,\n        \"max\": 846.0,\n        \"num_unique_values\": 7,\n        \"samples\": [\n          768.0,\n          79.79947916666667,\n          127.25\n        ],\n        \"semantic_type\": \"\",\n        \"description\": \"\"\n      }\n    },\n    {\n      \"column\": \"Body mass index (weight in kg/(height in m)^2)\",\n      \"properties\": {\n        \"dtype\": \"number\",\n        \"std\": 262.05117817552093,\n        \"min\": 0.0,\n        \"max\": 768.0,\n        \"num_unique_values\": 8,\n        \"samples\": [\n          31.992578124999998,\n          32.0,\n          768.0\n        ],\n        \"semantic_type\": \"\",\n        \"description\": \"\"\n      }\n    },\n    {\n      \"column\": \"Diabetes pedigree function\",\n      \"properties\": {\n        \"dtype\": \"number\",\n        \"std\": 271.3005221658502,\n        \"min\": 0.078,\n        \"max\": 768.0,\n        \"num_unique_values\": 8,\n        \"samples\": [\n          0.47187630208333325,\n          0.3725,\n          768.0\n        ],\n        \"semantic_type\": \"\",\n        \"description\": \"\"\n      }\n    },\n    {\n      \"column\": \"Age (years)\",\n      \"properties\": {\n        \"dtype\": \"number\",\n        \"std\": 260.1941178528413,\n        \"min\": 11.760231540678685,\n        \"max\": 768.0,\n        \"num_unique_values\": 8,\n        \"samples\": [\n          33.240885416666664,\n          29.0,\n          768.0\n        ],\n        \"semantic_type\": \"\",\n        \"description\": \"\"\n      }\n    },\n    {\n      \"column\": \"Class variable (0 or 1)\",\n      \"properties\": {\n        \"dtype\": \"number\",\n        \"std\": 271.3865920388932,\n        \"min\": 0.0,\n        \"max\": 768.0,\n        \"num_unique_values\": 5,\n        \"samples\": [\n          0.3489583333333333,\n          1.0,\n          0.47695137724279896\n        ],\n        \"semantic_type\": \"\",\n        \"description\": \"\"\n      }\n    }\n  ]\n}"
            }
          },
          "metadata": {},
          "execution_count": 12
        }
      ]
    },
    {
      "cell_type": "code",
      "source": [
        "cols = ['Plasma glucose concentration a 2 hours in an oral glucose tolerance test', 'Diastolic blood pressure (mm Hg)', 'Triceps skin fold thickness (mm)',\n",
        "     '2-Hour serum insulin (mu U/ml)', 'Body mass index (weight in kg/(height in m)^2)', 'Diabetes pedigree function']\n",
        "data[cols] = data[cols].replace(0,np.nan)\n",
        "data.isnull().sum()"
      ],
      "metadata": {
        "colab": {
          "base_uri": "https://localhost:8080/"
        },
        "id": "Nx09qgUiMbaZ",
        "outputId": "799c6a07-7ad2-45ed-b4b5-588cc0394b06"
      },
      "execution_count": 14,
      "outputs": [
        {
          "output_type": "execute_result",
          "data": {
            "text/plain": [
              "Number of times pregnant                                                      0\n",
              "Plasma glucose concentration a 2 hours in an oral glucose tolerance test      5\n",
              "Diastolic blood pressure (mm Hg)                                             35\n",
              "Triceps skin fold thickness (mm)                                            227\n",
              "2-Hour serum insulin (mu U/ml)                                              374\n",
              "Body mass index (weight in kg/(height in m)^2)                               11\n",
              "Diabetes pedigree function                                                    0\n",
              "Age (years)                                                                   0\n",
              "Class variable (0 or 1)                                                       0\n",
              "dtype: int64"
            ]
          },
          "metadata": {},
          "execution_count": 14
        }
      ]
    },
    {
      "cell_type": "code",
      "source": [
        "data=data.dropna()\n",
        "data.isna().sum()"
      ],
      "metadata": {
        "colab": {
          "base_uri": "https://localhost:8080/"
        },
        "id": "CB-WC9vlNO4T",
        "outputId": "246c9ff5-3423-4426-8b6f-71731b770a91"
      },
      "execution_count": 16,
      "outputs": [
        {
          "output_type": "execute_result",
          "data": {
            "text/plain": [
              "Number of times pregnant                                                    0\n",
              "Plasma glucose concentration a 2 hours in an oral glucose tolerance test    0\n",
              "Diastolic blood pressure (mm Hg)                                            0\n",
              "Triceps skin fold thickness (mm)                                            0\n",
              "2-Hour serum insulin (mu U/ml)                                              0\n",
              "Body mass index (weight in kg/(height in m)^2)                              0\n",
              "Diabetes pedigree function                                                  0\n",
              "Age (years)                                                                 0\n",
              "Class variable (0 or 1)                                                     0\n",
              "dtype: int64"
            ]
          },
          "metadata": {},
          "execution_count": 16
        }
      ]
    },
    {
      "cell_type": "code",
      "source": [
        "sns.histplot(data=data,x=\"Body mass index (weight in kg/(height in m)^2)\")"
      ],
      "metadata": {
        "colab": {
          "base_uri": "https://localhost:8080/",
          "height": 466
        },
        "id": "ZEkIdE6gN-KL",
        "outputId": "f40e79f4-5d53-4618-baa4-ca00e53b2989"
      },
      "execution_count": 20,
      "outputs": [
        {
          "output_type": "execute_result",
          "data": {
            "text/plain": [
              "<Axes: xlabel='Body mass index (weight in kg/(height in m)^2)', ylabel='Count'>"
            ]
          },
          "metadata": {},
          "execution_count": 20
        },
        {
          "output_type": "display_data",
          "data": {
            "text/plain": [
              "<Figure size 640x480 with 1 Axes>"
            ],
            "image/png": "[encoded data removed]"
          },
          "metadata": {}
        }
      ]
    },
    {
      "cell_type": "code",
      "source": [
        "df=data[\"Age (years)\"]\n",
        "df"
      ],
      "metadata": {
        "colab": {
          "base_uri": "https://localhost:8080/"
        },
        "id": "YTPUs0jORw-k",
        "outputId": "caa07e97-f0c7-46cd-f17c-b870765db3d2"
      },
      "execution_count": 30,
      "outputs": [
        {
          "output_type": "execute_result",
          "data": {
            "text/plain": [
              "3      21\n",
              "4      33\n",
              "6      26\n",
              "8      53\n",
              "13     59\n",
              "       ..\n",
              "753    26\n",
              "755    37\n",
              "760    22\n",
              "763    63\n",
              "765    30\n",
              "Name: Age (years), Length: 392, dtype: int64"
            ]
          },
          "metadata": {},
          "execution_count": 30
        }
      ]
    },
    {
      "cell_type": "code",
      "source": [
        "df=data.groupby(\"Class variable (0 or 1)\")[\"Class variable (0 or 1)\"].count()"
      ],
      "metadata": {
        "id": "znYIYC2gTMto"
      },
      "execution_count": 37,
      "outputs": []
    },
    {
      "cell_type": "code",
      "source": [
        "df"
      ],
      "metadata": {
        "colab": {
          "base_uri": "https://localhost:8080/"
        },
        "id": "vxCmx3nO1HeM",
        "outputId": "4d3085d0-86bd-40e1-a518-2ad5fe17e1b9"
      },
      "execution_count": 38,
      "outputs": [
        {
          "output_type": "execute_result",
          "data": {
            "text/plain": [
              "Class variable (0 or 1)\n",
              "0    262\n",
              "1    130\n",
              "Name: Class variable (0 or 1), dtype: int64"
            ]
          },
          "metadata": {},
          "execution_count": 38
        }
      ]
    },
    {
      "cell_type": "code",
      "source": [
        "plt.pie(df,labels=['No Diabetes','Diabetes'],autopct=\"%.1f%%\")"
      ],
      "metadata": {
        "colab": {
          "base_uri": "https://localhost:8080/",
          "height": 510
        },
        "id": "HCJBlDXN1IWS",
        "outputId": "872ed79d-137e-480b-c92d-84070c7e9179"
      },
      "execution_count": 46,
      "outputs": [
        {
          "output_type": "execute_result",
          "data": {
            "text/plain": [
              "([<matplotlib.patches.Wedge at 0x7f3bb3311ea0>,\n",
              "  <matplotlib.patches.Wedge at 0x7f3bb3311db0>],\n",
              " [Text(-0.5550818070742114, 0.9496758328267747, 'No Diabetes'),\n",
              "  Text(0.5550817181591404, -0.9496758847972802, 'Diabetes')],\n",
              " [Text(-0.3027718947677516, 0.5180049997236952, '66.8%'),\n",
              "  Text(0.302771846268622, -0.5180050280712436, '33.2%')])"
            ]
          },
          "metadata": {},
          "execution_count": 46
        },
        {
          "output_type": "display_data",
          "data": {
            "text/plain": [
              "<Figure size 640x480 with 1 Axes>"
            ],
            "image/png": "[encoded data removed]"
          },
          "metadata": {}
        }
      ]
    },
    {
      "cell_type": "code",
      "source": [
        "x_data=np.array(data[\"Triceps skin fold thickness (mm)\"])\n",
        "y_data=np.array(data[\"Body mass index (weight in kg/(height in m)^2)\"])\n",
        "plt.scatter(x_data,y_data)"
      ],
      "metadata": {
        "colab": {
          "base_uri": "https://localhost:8080/",
          "height": 447
        },
        "id": "COW8aQ7a1Kcg",
        "outputId": "742eb5b3-138a-4088-b993-c28e35e571b6"
      },
      "execution_count": 67,
      "outputs": [
        {
          "output_type": "execute_result",
          "data": {
            "text/plain": [
              "<matplotlib.collections.PathCollection at 0x7f3bae5b6da0>"
            ]
          },
          "metadata": {},
          "execution_count": 67
        },
        {
          "output_type": "display_data",
          "data": {
            "text/plain": [
              "<Figure size 640x480 with 1 Axes>"
            ],
            "image/png": "[encoded data removed]"
          },
          "metadata": {}
        }
      ]
    },
    {
      "cell_type": "markdown",
      "source": [
        "Libraries\n",
        "1. Numpy - NumPy is a Python library used for working with arrays.\n",
        "2. Pandas - Pandas library is used to worf with dataframes and series.\n",
        "3. Matplotlib - It is a comprehensive library for creating static, animated, and interactive visualizations in Python\n",
        "4. Seaborn - Python library for data visualization that offers a user-friendly interface for producing visually appealing and informative statistical graphics.\n",
        "5. OS -It is an inbuilt python module with methods for interacting with the operating system, like creating files and directories, management of files and directories, input, output, environment variables, process management, etc."
      ],
      "metadata": {
        "id": "BUZHslKJ6xhJ"
      }
    }
  ]
}