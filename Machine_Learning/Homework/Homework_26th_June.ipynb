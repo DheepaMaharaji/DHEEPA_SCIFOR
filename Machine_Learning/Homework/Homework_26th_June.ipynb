{
  "nbformat": 4,
  "nbformat_minor": 0,
  "metadata": {
    "colab": {
      "provenance": [],
      "authorship_tag": "ABX9TyMDyGjNbnfwwx8v2M8NF9cW",
      "include_colab_link": true
    },
    "kernelspec": {
      "name": "python3",
      "display_name": "Python 3"
    },
    "language_info": {
      "name": "python"
    }
  },
  "cells": [
    {
      "cell_type": "markdown",
      "metadata": {
        "id": "view-in-github",
        "colab_type": "text"
      },
      "source": [
        "<a href=\"https://colab.research.google.com/github/DheepaMaharaji/DHEEPA_SCIFOR/blob/main/Machine_Learning/Homework/Homework_26th_June.ipynb\" target=\"_parent\"><img src=\"https://colab.research.google.com/assets/colab-badge.svg\" alt=\"Open In Colab\"/></a>"
      ]
    },
    {
      "cell_type": "markdown",
      "source": [
        "**58. Length of Last Word**\n",
        "\n",
        "Given a string s consisting of words and spaces, return the length of the last word in the string.\n",
        "\n",
        "A word is a maximal\n",
        "substring\n",
        " consisting of non-space characters only."
      ],
      "metadata": {
        "id": "sObaFJlIPP7k"
      }
    },
    {
      "cell_type": "code",
      "execution_count": 1,
      "metadata": {
        "colab": {
          "base_uri": "https://localhost:8080/"
        },
        "id": "m0m8D_zrPJNW",
        "outputId": "37cf1f30-a100-4198-af4d-39324f3499ca"
      },
      "outputs": [
        {
          "output_type": "stream",
          "name": "stdout",
          "text": [
            "4\n"
          ]
        }
      ],
      "source": [
        "class Solution:\n",
        "    def lengthOfLastWord(self, s: str) -> int:\n",
        "        s=s.strip()\n",
        "        x=s.split(\" \")\n",
        "        return len(x[-1])\n",
        "c=Solution()\n",
        "print(c.lengthOfLastWord(\"   fly me   to   the moon  \"))"
      ]
    },
    {
      "cell_type": "markdown",
      "source": [
        "**709. To Lower Case**\n",
        "\n",
        "Given a string s, return the string after replacing every uppercase letter with the same lowercase letter."
      ],
      "metadata": {
        "id": "rARTWchMQEPN"
      }
    },
    {
      "cell_type": "code",
      "source": [
        "class Solution:\n",
        "  def toLowerCase(self, s: str) -> str:\n",
        "    return s.lower()\n",
        "c=Solution()\n",
        "print(c.toLowerCase(\"LOVELY\"))\n"
      ],
      "metadata": {
        "colab": {
          "base_uri": "https://localhost:8080/"
        },
        "id": "5aH13xjePo2I",
        "outputId": "c9530e4f-2c48-496b-aa4a-46a25f9a1bf7"
      },
      "execution_count": 2,
      "outputs": [
        {
          "output_type": "stream",
          "name": "stdout",
          "text": [
            "lovely\n"
          ]
        }
      ]
    },
    {
      "cell_type": "code",
      "source": [],
      "metadata": {
        "id": "9p0YfdSKQDBH"
      },
      "execution_count": null,
      "outputs": []
    }
  ]
}