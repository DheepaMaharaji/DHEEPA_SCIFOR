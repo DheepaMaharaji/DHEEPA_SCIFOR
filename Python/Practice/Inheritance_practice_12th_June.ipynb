{
  "nbformat": 4,
  "nbformat_minor": 0,
  "metadata": {
    "colab": {
      "provenance": [],
      "authorship_tag": "ABX9TyOLUIe/XyVxw76CAxK4dzyD",
      "include_colab_link": true
    },
    "kernelspec": {
      "name": "python3",
      "display_name": "Python 3"
    },
    "language_info": {
      "name": "python"
    }
  },
  "cells": [
    {
      "cell_type": "markdown",
      "metadata": {
        "id": "view-in-github",
        "colab_type": "text"
      },
      "source": [
        "<a href=\"https://colab.research.google.com/github/DheepaMaharaji/DHEEPA_SCIFOR/blob/main/Python/Practice/Inheritance_practice_12th_June.ipynb\" target=\"_parent\"><img src=\"https://colab.research.google.com/assets/colab-badge.svg\" alt=\"Open In Colab\"/></a>"
      ]
    },
    {
      "cell_type": "markdown",
      "source": [
        "# **Multi Level Inheritance**"
      ],
      "metadata": {
        "id": "X-slQsUg9bEN"
      }
    },
    {
      "cell_type": "code",
      "execution_count": 2,
      "metadata": {
        "colab": {
          "base_uri": "https://localhost:8080/"
        },
        "id": "j0K0ZsVS9WSl",
        "outputId": "01f0d9a5-bd1e-4d36-fe5a-9a6e99b9bf31"
      },
      "outputs": [
        {
          "output_type": "stream",
          "name": "stdout",
          "text": [
            "Toyota Innova\n",
            "4\n",
            "silver\n"
          ]
        }
      ],
      "source": [
        "class Vehicle:\n",
        "   def __init__(self,color):\n",
        "     self.color = color\n",
        "   def getColor(self):\n",
        "     return self.color\n",
        "class FourWheeler(Vehicle):\n",
        "   def __init__(self,color,wheels):\n",
        "     Vehicle.__init__(self,color)\n",
        "     self.wheels = wheels\n",
        "   def getWheels(self):\n",
        "     return self.wheels\n",
        "class Car(FourWheeler):\n",
        "   def __init__(self,color,wheels,model):\n",
        "     FourWheeler.__init__(self,color,wheels)\n",
        "     self.model=model\n",
        "   def getModel(self):\n",
        "     return self.model\n",
        "car = Car('silver',4,'Toyota Innova')\n",
        "print(car.getModel())\n",
        "print(car.getWheels())\n",
        "print(car.getColor())"
      ]
    },
    {
      "cell_type": "markdown",
      "source": [
        "**With Super() class constructor**"
      ],
      "metadata": {
        "id": "ogj5xXbRPj1l"
      }
    },
    {
      "cell_type": "code",
      "source": [
        "class GrandParent:\n",
        "  def __init__(self,gpname):\n",
        "    self.gpname= gpname\n",
        "  def getgpname(self):\n",
        "    return self.gpname\n",
        "class Parent(GrandParent):\n",
        "  def __init__(self,gpname,pname):\n",
        "    super().__init__(gpname)\n",
        "    self.pname=pname\n",
        "  def getpname(self):\n",
        "    return self.pname\n",
        "class Child(Parent):\n",
        "  def __init__(self,gpname,pname,name):\n",
        "    super().__init__(gpname,pname)\n",
        "    self.name=name\n",
        "  def getname(self):\n",
        "    return self.name\n",
        "c=Child(\"GP\",\"P\",\"C\")\n",
        "print(c.getname())\n",
        "print(c.getpname())\n",
        "print(c.getgpname())"
      ],
      "metadata": {
        "colab": {
          "base_uri": "https://localhost:8080/"
        },
        "id": "05qsixpa_-z8",
        "outputId": "e4047c2e-5510-484a-acaa-24abed3bd94b"
      },
      "execution_count": 17,
      "outputs": [
        {
          "output_type": "stream",
          "name": "stdout",
          "text": [
            "C\n",
            "P\n",
            "GP\n"
          ]
        }
      ]
    },
    {
      "cell_type": "markdown",
      "source": [
        "# **Multiple Constructor**"
      ],
      "metadata": {
        "id": "YTYIrPTWP0fk"
      }
    },
    {
      "cell_type": "markdown",
      "source": [
        "**Method Resolution Order**"
      ],
      "metadata": {
        "id": "3Vndt-aMZVkT"
      }
    },
    {
      "cell_type": "code",
      "source": [
        "class Father:\n",
        "  def __init__(self):\n",
        "    print(\"father\")\n",
        "class Mother:\n",
        "  def __init__(self):\n",
        "    print(\"Mother\")\n",
        "class Child(Father,Mother):\n",
        "  def __init__(self):\n",
        "    super().__init__()\n",
        "    print(\"Child\")\n",
        "c=Child()"
      ],
      "metadata": {
        "colab": {
          "base_uri": "https://localhost:8080/"
        },
        "id": "xvxGOBH3WtZJ",
        "outputId": "021cb490-d3c5-4d28-f464-ec06353265ed"
      },
      "execution_count": 23,
      "outputs": [
        {
          "output_type": "stream",
          "name": "stdout",
          "text": [
            "father\n",
            "Child\n"
          ]
        }
      ]
    },
    {
      "cell_type": "code",
      "source": [
        "class Father:\n",
        "  def __init__(self,fname,**kwargs):\n",
        "    self.fathername=fname\n",
        "    super().__init__(**kwargs)\n",
        "class Mother:\n",
        "  def __init__(self,mname,**kwargs):\n",
        "    self.mothername=mname\n",
        "    # super().__init__(**kwargs)\n",
        "class Child(Father,Mother):\n",
        "  def __init__(self,mname,name,fname,**kwargs):\n",
        "    kwargs['fname']=fname\n",
        "    super().__init__(mname=mname,**kwargs)\n",
        "    self.name=name\n",
        "c=Child(\"Sona\",\"pinky\",\"Suresh\")\n",
        "print(c.name)\n",
        "print(c.fathername)\n",
        "print(c.mothername)"
      ],
      "metadata": {
        "colab": {
          "base_uri": "https://localhost:8080/"
        },
        "id": "pSb8dA8EY7bO",
        "outputId": "c369c0c3-6c76-4550-b69e-415bdff53888"
      },
      "execution_count": 39,
      "outputs": [
        {
          "output_type": "stream",
          "name": "stdout",
          "text": [
            "pinky\n",
            "Suresh\n",
            "Sona\n"
          ]
        }
      ]
    },
    {
      "cell_type": "code",
      "source": [
        "\n",
        "class Rectangle:\n",
        "    def __init__(self, length, width, **kwargs):\n",
        "        self.length = length\n",
        "        self.width = width\n",
        "        super().__init__(**kwargs)\n",
        "\n",
        "    def area(self):\n",
        "        return self.length * self.width\n",
        "\n",
        "    def perimeter(self):\n",
        "        return 2 * self.length + 2 * self.width\n",
        "\n",
        "class Square(Rectangle):\n",
        "    def __init__(self, length, **kwargs):\n",
        "        super().__init__(length=length, width=length, **kwargs)\n",
        "\n",
        "class Triangle:\n",
        "    def __init__(self, base, height, **kwargs):\n",
        "        self.base = base\n",
        "        self.height = height\n",
        "        super().__init__(**kwargs)\n",
        "\n",
        "    def tri_area(self):\n",
        "        return 0.5 * self.base * self.height\n",
        "\n",
        "class RightPyramid(Square, Triangle):\n",
        "    def __init__(self, base, slant_height, **kwargs):\n",
        "        self.base = base\n",
        "        self.slant_height = slant_height\n",
        "        kwargs[\"height\"] = slant_height\n",
        "        kwargs[\"length\"] = base\n",
        "        super().__init__(base=base, **kwargs)\n",
        "\n",
        "    def area(self):\n",
        "        base_area = super().area()\n",
        "        perimeter = super().perimeter()\n",
        "        return 0.5 * perimeter * self.slant_height + base_area\n",
        "\n",
        "    def area_2(self):\n",
        "        base_area = super().area()\n",
        "        triangle_area = super().tri_area()\n",
        "        return triangle_area * 4 + base_area\n",
        "\n",
        "rp=RightPyramid(5,13)\n",
        "print(rp.area())\n",
        "print(rp.area_2())"
      ],
      "metadata": {
        "colab": {
          "base_uri": "https://localhost:8080/"
        },
        "id": "SCGBD4VDLiQX",
        "outputId": "ec662698-12da-4f3a-a819-60f82a99f016"
      },
      "execution_count": 36,
      "outputs": [
        {
          "output_type": "stream",
          "name": "stdout",
          "text": [
            "155.0\n",
            "155.0\n"
          ]
        }
      ]
    },
    {
      "cell_type": "code",
      "source": [],
      "metadata": {
        "id": "jDNgRfJKaWXU"
      },
      "execution_count": null,
      "outputs": []
    }
  ]
}