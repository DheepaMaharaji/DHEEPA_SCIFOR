{
  "nbformat": 4,
  "nbformat_minor": 0,
  "metadata": {
    "colab": {
      "provenance": [],
      "authorship_tag": "ABX9TyOJgU30Qd5tJjoBAKC3IM/b",
      "include_colab_link": true
    },
    "kernelspec": {
      "name": "python3",
      "display_name": "Python 3"
    },
    "language_info": {
      "name": "python"
    }
  },
  "cells": [
    {
      "cell_type": "markdown",
      "metadata": {
        "id": "view-in-github",
        "colab_type": "text"
      },
      "source": [
        "<a href=\"https://colab.research.google.com/github/DheepaMaharaji/DHEEPA_SCIFOR/blob/main/Python/Test/Test_Encapsulation.ipynb\" target=\"_parent\"><img src=\"https://colab.research.google.com/assets/colab-badge.svg\" alt=\"Open In Colab\"/></a>"
      ]
    },
    {
      "cell_type": "markdown",
      "source": [
        "**Encapsulation**- Encapsulation means it binds data and code together into one unit."
      ],
      "metadata": {
        "id": "JsUgLTHgF-l1"
      }
    },
    {
      "cell_type": "code",
      "execution_count": 18,
      "metadata": {
        "colab": {
          "base_uri": "https://localhost:8080/"
        },
        "id": "1s7H3a5HFTBe",
        "outputId": "ba69863c-3d6f-44eb-a99a-1555f4e27211"
      },
      "outputs": [
        {
          "output_type": "stream",
          "name": "stdout",
          "text": [
            "The tea flavours available are:\n",
            "    1. Cardamom\n",
            "    2. Ginger\n",
            "    3. Masala\n",
            "    4. Green\n",
            "    5. Black\n",
            "    press Enter for normal tea without flavours\n",
            "\n",
            "    Enter the flavor choice number :3\n",
            "Your Masala tea is ready.Enjoy!\n",
            "The cost of your order is 30 INR\n"
          ]
        }
      ],
      "source": [
        "class teaMakingMachine:\n",
        "  def __init__(self):\n",
        "    self.__flavour=\"Normal\"\n",
        "    self.__cost=10\n",
        "  def setflavour(self):\n",
        "    flavor_needed=input('''The tea flavours available are:\n",
        "    1. Cardamom\n",
        "    2. Ginger\n",
        "    3. Masala\n",
        "    4. Green\n",
        "    5. Black\n",
        "    press Enter for normal tea without flavours\n",
        "\n",
        "    Enter the flavor choice number :''')\n",
        "\n",
        "    match flavor_needed:\n",
        "      case '1':\n",
        "        self.__flavour= \"Cardamom\"\n",
        "      case '2':\n",
        "        self.__flavour= \"Ginger\"\n",
        "      case '3':\n",
        "        self.__flavour= \"Masala\"\n",
        "      case '4':\n",
        "        self.__flavour= \"Green\"\n",
        "      case '5':\n",
        "        self.__flavour= \"Black\"\n",
        "      case _:\n",
        "        self.__flavour= \"Normal\"\n",
        "\n",
        "\n",
        "  def getFlavour(self):\n",
        "    print(f'Your {self.__flavour} tea is ready.Enjoy!')\n",
        "\n",
        "\n",
        "  def getCost(self):\n",
        "    cost={\"Cardamom\":10,\"Ginger\":20,\"Masala\":30,\"Green\":40,\"Black\":10,\"Normal\":10}\n",
        "    self.__cost=cost[self.__flavour]\n",
        "    print(f'The cost of your order is {self.__cost} INR')\n",
        "\n",
        "\n",
        "\n",
        "t=teaMakingMachine()\n",
        "t.setflavour()\n",
        "t.getFlavour()\n",
        "t.getCost()\n",
        "\n"
      ]
    },
    {
      "cell_type": "code",
      "source": [
        "class VendingMachine:\n",
        "  def __init__(self,stock,price):\n",
        "    self.__stock= stock\n",
        "    self.__price=price\n",
        "    self.__balanceToReturn=0\n",
        "    print('''Chocolates Available:\n",
        "    1. Kit Kat\n",
        "    2. Dairy Milk\n",
        "    3. Milky Bar\n",
        "    4. Sneakers\n",
        "    5. Munch\n",
        "    ''')\n",
        "  def selectoption(self):\n",
        "    option=input(\"Enter your choice: \")\n",
        "    match option:\n",
        "      case '1':\n",
        "        self.__option='Kit Kat'\n",
        "      case '2':\n",
        "        self.__option= 'Dairy Milk'\n",
        "      case '3':\n",
        "        self.__option= 'Milky Bar'\n",
        "      case '4':\n",
        "        self.__option= 'Sneakers'\n",
        "      case '5':\n",
        "        self.__option='Munch'\n",
        "      case '':\n",
        "        print(\"Please Select a number\")\n",
        "  def getoption(self):\n",
        "    return self.__option\n",
        "  def getPrice(self):\n",
        "    return  self.__price[self.getoption()]\n",
        "  def getstock(self):\n",
        "    return self.__stock[self.getoption()]\n",
        "  def setstock(self,n):\n",
        "    self.__stock[self.getoption()]=n\n",
        "  def setbalanceToReturn(self,x):\n",
        "    self.__balanceToReturn=x\n",
        "  def getbalanceToReturn(self):\n",
        "    return self.__balanceToReturn\n",
        "  def Billing(self,amountpaid):\n",
        "    if self.getstock()>=1:\n",
        "      self.setstock(self.getstock()-1)\n",
        "      if self.getPrice()<=amountpaid:\n",
        "        self.setbalanceToReturn(amountpaid-self.getPrice())\n",
        "        print('Collect your Chocolate')\n",
        "        if self.getbalanceToReturn()!=0:\n",
        "           print(f\"Collect balance {self.getbalanceToReturn()} INR\")\n",
        "      else:\n",
        "        self.setbalanceToReturn(amountpaid)\n",
        "        print('Please pay again')\n",
        "        if self.getbalanceToReturn()!=0:\n",
        "           print(f\"Collect balance {self.getbalanceToReturn()} INR\")\n",
        "\n",
        "\n",
        "    else:\n",
        "      print('stock not available')\n",
        "\n",
        "\n",
        "\n",
        "v= VendingMachine({'Kit Kat':50,'Dairy Milk':50,'Milky Bar':50,'Sneakers':50,'Munch':50},{'Kit Kat':5,'Dairy Milk':5,'Milky Bar':5,'Sneakers':5,'Munch':5})\n",
        "v.selectoption()\n",
        "v.Billing(5)\n",
        "\n"
      ],
      "metadata": {
        "colab": {
          "base_uri": "https://localhost:8080/"
        },
        "id": "VX1uOn6vMNSP",
        "outputId": "925f2025-3cc8-4963-ae9f-d5bbd67fb523"
      },
      "execution_count": 30,
      "outputs": [
        {
          "output_type": "stream",
          "name": "stdout",
          "text": [
            "Chocolates Available:\n",
            "    1. Kit Kat\n",
            "    2. Dairy Milk\n",
            "    3. Milky Bar\n",
            "    4. Sneakers\n",
            "    5. Munch\n",
            "    \n",
            "Enter your choice: 3\n",
            "Collect your Chocolate\n"
          ]
        }
      ]
    },
    {
      "cell_type": "code",
      "source": [],
      "metadata": {
        "id": "KDVvnvM6oX19"
      },
      "execution_count": null,
      "outputs": []
    }
  ]
}