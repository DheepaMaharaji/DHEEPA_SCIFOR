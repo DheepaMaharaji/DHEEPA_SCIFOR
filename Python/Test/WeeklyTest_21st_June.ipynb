{
  "nbformat": 4,
  "nbformat_minor": 0,
  "metadata": {
    "colab": {
      "provenance": [],
      "authorship_tag": "ABX9TyNANPkfw1AEkG/rY8Re+Hf2",
      "include_colab_link": true
    },
    "kernelspec": {
      "name": "python3",
      "display_name": "Python 3"
    },
    "language_info": {
      "name": "python"
    }
  },
  "cells": [
    {
      "cell_type": "markdown",
      "metadata": {
        "id": "view-in-github",
        "colab_type": "text"
      },
      "source": [
        "<a href=\"https://colab.research.google.com/github/DheepaMaharaji/DHEEPA_SCIFOR/blob/main/Python/Test/WeeklyTest_21st_June.ipynb\" target=\"_parent\"><img src=\"https://colab.research.google.com/assets/colab-badge.svg\" alt=\"Open In Colab\"/></a>"
      ]
    },
    {
      "cell_type": "markdown",
      "source": [
        "***1. Example of all types of inheritance***"
      ],
      "metadata": {
        "id": "dxlt4oxCCdUO"
      }
    },
    {
      "cell_type": "code",
      "execution_count": 21,
      "metadata": {
        "colab": {
          "base_uri": "https://localhost:8080/"
        },
        "id": "nB-N02eUeBYg",
        "outputId": "bfd64ccb-9e9d-4049-d222-1ef6b87395ca"
      },
      "outputs": [
        {
          "output_type": "stream",
          "name": "stdout",
          "text": [
            "inside square\n",
            "inside rectangle\n",
            "2\n",
            "inside triangle\n",
            "0\n",
            "552.0\n",
            "552.0\n"
          ]
        }
      ],
      "source": [
        "\n",
        "class Rectangle:\n",
        "    def __init__(self, length, width, **kwargs):\n",
        "        print(\"inside rectangle\")\n",
        "        self.length = length\n",
        "        self.width = width\n",
        "        print(len(kwargs))\n",
        "        super().__init__(**kwargs)\n",
        "\n",
        "    def area(self):\n",
        "        return self.length * self.width\n",
        "\n",
        "    def perimeter(self):\n",
        "        return 2 * self.length + 2 * self.width\n",
        "\n",
        "class Square(Rectangle): #Single inheritance\n",
        "    def __init__(self, length, **kwargs):\n",
        "        print(\"inside square\")\n",
        "\n",
        "        super().__init__(length=length, width=length, **kwargs)\n",
        "\n",
        "class Triangle:\n",
        "    def __init__(self, base, height, **kwargs):\n",
        "        print(\"inside triangle\")\n",
        "        self.base = base\n",
        "        self.height = height\n",
        "        print(len(kwargs))\n",
        "        super().__init__(**kwargs)\n",
        "\n",
        "    def tri_area(self):\n",
        "        return 0.5 * self.base * self.height\n",
        "\n",
        "class RightPyramid(Square, Triangle):  #hybrid inheritance,multilevel,multiple\n",
        "    def __init__(self, base, slant_height, **kwargs):\n",
        "        self.base = base\n",
        "        self.slant_height = slant_height\n",
        "        kwargs[\"height\"] = slant_height\n",
        "        kwargs[\"length\"] = base\n",
        "        super().__init__(base=base, **kwargs)\n",
        "\n",
        "    def area(self):\n",
        "        base_area = super().area()\n",
        "        perimeter = super().perimeter()\n",
        "        return 0.5 * perimeter * self.slant_height + base_area\n",
        "\n",
        "    def area_2(self):\n",
        "        base_area = super().area()\n",
        "        triangle_area = super().tri_area()\n",
        "        return triangle_area * 4 + base_area\n",
        "\n",
        "rp=RightPyramid(6,43)\n",
        "print(rp.area())\n",
        "print(rp.area_2())"
      ]
    },
    {
      "cell_type": "code",
      "source": [
        "class GrandParent:\n",
        "  def __init__(self,gpname,**kwargs):\n",
        "    print(\"Inside Gp\")\n",
        "    self.gpname=gpname\n",
        "\n",
        "class Father(GrandParent):   #Hierarchical inheritance\n",
        "  def __init__(self,gpname,fname,**kwargs):\n",
        "    print(\"Inside Father\")\n",
        "    self.fname=fname\n",
        "    super().__init__(gpname=gpname,**kwargs)\n",
        "class Mother(GrandParent):\n",
        "  def __init__(self,mname,**kwargs):\n",
        "    print(\"inside mother\")\n",
        "    self.mname=mname\n",
        "    print(kwargs[\"gpname\"])\n",
        "    super().__init__(**kwargs)\n",
        "class child(Father,Mother):   #multiple inheritance, multilevel inheritance\n",
        "  def __init__(self,name,fname,mname,gpname,**kwargs):\n",
        "    self.name=name\n",
        "    kwargs[\"mname\"]=mname\n",
        "    super().__init__(gpname,fname,**kwargs)\n",
        "c=child(\"n\",\"F\",\"M\",\"GP\")\n",
        "print(\"***********\")\n",
        "print(c.name)\n",
        "print(c.fname)\n",
        "print(c.mname)\n",
        "print(c.gpname)\n"
      ],
      "metadata": {
        "colab": {
          "base_uri": "https://localhost:8080/"
        },
        "id": "awR3qkSieUlW",
        "outputId": "a810feee-70c4-40d1-be90-ad06d42a62b4"
      },
      "execution_count": 22,
      "outputs": [
        {
          "output_type": "stream",
          "name": "stdout",
          "text": [
            "Inside Father\n",
            "inside mother\n",
            "GP\n",
            "Inside Gp\n",
            "***********\n",
            "n\n",
            "F\n",
            "M\n",
            "GP\n"
          ]
        }
      ]
    },
    {
      "cell_type": "markdown",
      "source": [
        "***2. Method Overriding***"
      ],
      "metadata": {
        "id": "bMXt3dFmRwgY"
      }
    },
    {
      "cell_type": "code",
      "source": [
        "class Rectangle:\n",
        "  def __init__(self,length,width):\n",
        "    self.length=length\n",
        "    self.width=width\n",
        "  def area(self):\n",
        "    print(f\"The area of the rectangle is {self.length*self.width}\")\n",
        "class Square(Rectangle):\n",
        "  def __init__(self,side):\n",
        "    super().__init__(length=side,width=side)\n",
        "  def area(self):\n",
        "    print(f\"The area of the square is {self.length*self.width}\")\n",
        "\n",
        "s=Square(5)\n",
        "s.area()\n",
        "r=Rectangle(6,3)\n",
        "r.area()"
      ],
      "metadata": {
        "id": "O8Bu-EX-oFOI",
        "colab": {
          "base_uri": "https://localhost:8080/"
        },
        "outputId": "949ba223-24c7-41b3-89be-e17026d168e2"
      },
      "execution_count": 24,
      "outputs": [
        {
          "output_type": "stream",
          "name": "stdout",
          "text": [
            "The area of the square is 25\n",
            "The area of the rectangle is 18\n"
          ]
        }
      ]
    },
    {
      "cell_type": "markdown",
      "source": [
        "***3. Method Overloading***"
      ],
      "metadata": {
        "id": "gnBoERQKUF_A"
      }
    },
    {
      "cell_type": "code",
      "source": [
        "class addition:\n",
        "\n",
        "  def add(self,x=0,y=0,z=0):\n",
        "    return x+y+z\n",
        "  def add(self,a=\"\",b=\"\"):\n",
        "    return a+b\n",
        "m=addition()\n",
        "print(m.add(3,2))\n",
        "#print(m.add(1,2,4))  #Causes error because python does not support method overloading it takes only the latest method\n",
        "print(m.add(\"bat\",\"man\"))\n",
        "\n",
        ""
      ],
      "metadata": {
        "colab": {
          "base_uri": "https://localhost:8080/"
        },
        "id": "bHkPqyMrT7Te",
        "outputId": "749f07d4-b82e-4f79-e489-b8eec61ca59d"
      },
      "execution_count": 45,
      "outputs": [
        {
          "output_type": "stream",
          "name": "stdout",
          "text": [
            "5\n",
            "batman\n"
          ]
        }
      ]
    },
    {
      "cell_type": "code",
      "source": [
        "class concat: #However method overloading can be done using some modifications within the method itself\n",
        "  def add(self,datatype,a,b):\n",
        "\n",
        "    if datatype=='str':\n",
        "      answer=\"\"\n",
        "    else:\n",
        "      answer=0\n",
        "    answer+=(a+b)\n",
        "    return answer\n",
        "m=concat()\n",
        "print(m.add(\"str\",\"Hello\",\"World\"))\n",
        "print(m.add(\"int\",3,4))\n",
        "\n"
      ],
      "metadata": {
        "colab": {
          "base_uri": "https://localhost:8080/"
        },
        "id": "_NCklzl-eymX",
        "outputId": "8bf53cdf-9e80-4e5c-8133-c4a81022b5a6"
      },
      "execution_count": 46,
      "outputs": [
        {
          "output_type": "stream",
          "name": "stdout",
          "text": [
            "HelloWorld\n",
            "7\n"
          ]
        }
      ]
    },
    {
      "cell_type": "code",
      "source": [],
      "metadata": {
        "id": "Pt2U0wG6t2rf"
      },
      "execution_count": null,
      "outputs": []
    }
  ]
}