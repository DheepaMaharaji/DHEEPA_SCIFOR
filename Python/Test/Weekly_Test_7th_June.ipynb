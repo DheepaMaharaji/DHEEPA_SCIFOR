{
  "nbformat": 4,
  "nbformat_minor": 0,
  "metadata": {
    "colab": {
      "provenance": [],
      "authorship_tag": "ABX9TyONITKTX0peXEoswJoUwcNI"
    },
    "kernelspec": {
      "name": "python3",
      "display_name": "Python 3"
    },
    "language_info": {
      "name": "python"
    }
  },
  "cells": [
    {
      "cell_type": "markdown",
      "source": [
        "1. Encapsulation - It is a practice of bundling related data into a structured unit along with the methods used to work with the data. It provides a way to restrict direct access to attributes of an object which prevents accidental modification of data.\n"
      ],
      "metadata": {
        "id": "FRXQKW015VAI"
      }
    },
    {
      "cell_type": "code",
      "source": [
        "class Employee:\n",
        "  def __init__(self,name,age):\n",
        "    self.__name=name # Private variable\n",
        "    self.__age=age\n",
        "  def getname(self): # method to access private variable\n",
        "    return self.__name\n",
        "  def getage(self):\n",
        "    return self.__age\n",
        "emp=Employee(\"Dheepa\",24)\n",
        "print(emp.getname())\n",
        "print(emp.getage())"
      ],
      "metadata": {
        "colab": {
          "base_uri": "https://localhost:8080/"
        },
        "id": "RYB162Lm6Pgc",
        "outputId": "54ee7250-7d2d-4771-f30c-5770c41887d3"
      },
      "execution_count": 1,
      "outputs": [
        {
          "output_type": "stream",
          "name": "stdout",
          "text": [
            "Dheepa\n",
            "24\n"
          ]
        }
      ]
    },
    {
      "cell_type": "markdown",
      "source": [
        "2. Polymorphism - It is an ability to represent objects of different types using a single interface.It provides a way to substitute classes that have common functionality in sense of methods and data."
      ],
      "metadata": {
        "id": "Hs3ZDSn577dX"
      }
    },
    {
      "cell_type": "code",
      "source": [
        "class Shape:\n",
        "  def intro(self):\n",
        "    print(\"I am a shape\")\n",
        "class Square(Shape):\n",
        "  def intro(self):\n",
        "    print(\"I am a square\")\n",
        "class Rectangle(Shape):\n",
        "  def intro(self):\n",
        "    print(\"I am a rectangle\")\n",
        "obj= Shape()\n",
        "sq= Square()\n",
        "rec= Rectangle()\n",
        "obj.intro()\n",
        "sq.intro()\n",
        "rec.intro()"
      ],
      "metadata": {
        "colab": {
          "base_uri": "https://localhost:8080/"
        },
        "id": "jRafm5RG8nTX",
        "outputId": "6c330fea-4cc1-409a-895a-4d9ed2239fe3"
      },
      "execution_count": 2,
      "outputs": [
        {
          "output_type": "stream",
          "name": "stdout",
          "text": [
            "I am a shape\n",
            "I am a square\n",
            "I am a rectangle\n"
          ]
        }
      ]
    },
    {
      "cell_type": "markdown",
      "source": [
        "3. Single Level inheritance -It is an ability to define a single child class that inherits all the methods and properties from a single parent class."
      ],
      "metadata": {
        "id": "nRjzfkYR9z3H"
      }
    },
    {
      "cell_type": "code",
      "source": [
        "class Employee: # Parent class\n",
        "  def __init__(self,name,id):\n",
        "    self.__name=name\n",
        "    self.__id=id\n",
        "  def employee_details(self):\n",
        "    return self.__name,self.__id\n",
        "class employee2(Employee): #child class\n",
        "  def intro(self):\n",
        "    print(\"Inside Employee2\")\n",
        "\n",
        "emp=Employee(\"A\",123)\n",
        "emp1=employee2(\"B\",456)\n",
        "print(emp.employee_details())\n",
        "print(emp1.employee_details())\n",
        "emp1.intro()"
      ],
      "metadata": {
        "colab": {
          "base_uri": "https://localhost:8080/"
        },
        "id": "H02tNDJd7Pib",
        "outputId": "445aeea9-dc5c-4214-b410-6fc26170a497"
      },
      "execution_count": 4,
      "outputs": [
        {
          "output_type": "stream",
          "name": "stdout",
          "text": [
            "('A', 123)\n",
            "('B', 456)\n",
            "Inside Employee2\n"
          ]
        }
      ]
    },
    {
      "cell_type": "markdown",
      "source": [
        "4. Multiple inheritance - A type of inheritance in which the child class is derived from more than one super class"
      ],
      "metadata": {
        "id": "wvdm2HnGBRzC"
      }
    },
    {
      "cell_type": "code",
      "source": [
        "class Father:\n",
        "  def father(self):\n",
        "    return \"Father\"\n",
        "\n",
        "\n",
        "class Mother:\n",
        " def mother(self):\n",
        "   return \"Mother\"\n",
        "\n",
        "class child(Father,Mother):\n",
        "  def __init__(self,name):\n",
        "    self.name=name\n",
        "c=child(\"xxx\")\n",
        "\n",
        "print(c.father())\n",
        "print(c.mother())"
      ],
      "metadata": {
        "colab": {
          "base_uri": "https://localhost:8080/"
        },
        "id": "OoPqey7xBD0u",
        "outputId": "3bf9876f-4ced-4c70-fdb3-df38ef89633c"
      },
      "execution_count": 16,
      "outputs": [
        {
          "output_type": "stream",
          "name": "stdout",
          "text": [
            "Father\n",
            "Mother\n"
          ]
        }
      ]
    },
    {
      "cell_type": "markdown",
      "source": [
        "5. Multilevel Inheritance - A type of inheritance in which the child class is derived from a parent class which itself a derived from another class."
      ],
      "metadata": {
        "id": "nW0VNmOTEgiS"
      }
    },
    {
      "cell_type": "code",
      "source": [
        "class Shape:\n",
        "    def area(self):\n",
        "       print(\"Area\")\n",
        "\n",
        "\n",
        "class Rectangle(Shape):\n",
        "    def __init__(self, length, width):\n",
        "        self.length = length\n",
        "        self.width = width\n",
        "\n",
        "    def area(self):\n",
        "        print(f\"Rectangle = {self.length*self.width}\")\n",
        "\n",
        "\n",
        "class Square(Rectangle):\n",
        "    def __init__(self, side):\n",
        "        super().__init__(side, side)\n",
        "\n",
        "    def area(self):\n",
        "        print(f\"Square = {self.length ** 2}\")\n",
        "rec=Rectangle(2,3)\n",
        "sq=Square(4)\n",
        "rec.area()\n",
        "sq.area()\n"
      ],
      "metadata": {
        "colab": {
          "base_uri": "https://localhost:8080/"
        },
        "id": "EhzzQYEqEN95",
        "outputId": "4a632f2e-348e-4e54-dac8-6f4150305e7f"
      },
      "execution_count": 9,
      "outputs": [
        {
          "output_type": "stream",
          "name": "stdout",
          "text": [
            "Rectangle = 6\n",
            "Square = 16\n"
          ]
        }
      ]
    },
    {
      "cell_type": "markdown",
      "source": [
        "6. Conditional statements - Statements that provide a choice for the control flow based on a condition."
      ],
      "metadata": {
        "id": "TpFDn13EFkMO"
      }
    },
    {
      "cell_type": "code",
      "source": [
        "number=50\n",
        "\n",
        "if number >=50 :\n",
        "  print(f\"Number greater than 50\")\n",
        "else:\n",
        "  print(f\"Number less than 50\")"
      ],
      "metadata": {
        "colab": {
          "base_uri": "https://localhost:8080/"
        },
        "id": "xdUB91AFFcJQ",
        "outputId": "f1d83abd-4952-4dd5-a4c0-54116ba3418f"
      },
      "execution_count": 10,
      "outputs": [
        {
          "output_type": "stream",
          "name": "stdout",
          "text": [
            "Number greater than 50\n"
          ]
        }
      ]
    },
    {
      "cell_type": "markdown",
      "source": [
        "7. Decision making statement- decision-making statements let programs decide what to do and run distinct code blocks according to predefined conditions.The if, elif and if-else statements controls the flow of the code in python."
      ],
      "metadata": {
        "id": "wWt0OPfBGXm6"
      }
    },
    {
      "cell_type": "code",
      "source": [
        "name=\"Polymorphism\"\n",
        "if(len(name)>10):\n",
        "  print(\"Bigger string\")\n",
        "elif(len(name)>5):\n",
        "  print(\"big string\")\n",
        "else:\n",
        "  print(\"short string\")"
      ],
      "metadata": {
        "colab": {
          "base_uri": "https://localhost:8080/"
        },
        "id": "-tmNV3klG3FN",
        "outputId": "0e9cb907-fbe3-466d-f628-1af105a03a8a"
      },
      "execution_count": 11,
      "outputs": [
        {
          "output_type": "stream",
          "name": "stdout",
          "text": [
            "Bigger string\n"
          ]
        }
      ]
    },
    {
      "cell_type": "markdown",
      "source": [
        "8. Factorial"
      ],
      "metadata": {
        "id": "TI7um4NWHNMX"
      }
    },
    {
      "cell_type": "code",
      "source": [
        "def factorial(n):\n",
        "  if n==0 or n==1:\n",
        "    return 1\n",
        "  else:\n",
        "    return n*factorial(n-1)\n",
        "print(factorial(5) )"
      ],
      "metadata": {
        "colab": {
          "base_uri": "https://localhost:8080/"
        },
        "id": "4R_ek6nwHLA4",
        "outputId": "62cc54e5-d8d1-46b5-fec9-c4c4cfaa4612"
      },
      "execution_count": 12,
      "outputs": [
        {
          "output_type": "stream",
          "name": "stdout",
          "text": [
            "120\n"
          ]
        }
      ]
    },
    {
      "cell_type": "markdown",
      "source": [
        "9. Functions - a block of organized, reusable code that performs a specific task."
      ],
      "metadata": {
        "id": "XpjuH14VHisf"
      }
    },
    {
      "cell_type": "code",
      "source": [
        "def addition(x,y):\n",
        "  return x+y\n",
        "print(3,4)\n",
        "print(5,7)\n",
        "print(7,29999)"
      ],
      "metadata": {
        "colab": {
          "base_uri": "https://localhost:8080/"
        },
        "id": "pMfakp-6HeKY",
        "outputId": "97bb5161-135f-4a94-8d42-38702b8ac829"
      },
      "execution_count": 13,
      "outputs": [
        {
          "output_type": "stream",
          "name": "stdout",
          "text": [
            "3 4\n",
            "5 7\n",
            "7 29999\n"
          ]
        }
      ]
    },
    {
      "cell_type": "markdown",
      "source": [
        "10. Pillars of OOPS - There are 4 pillars of OOPS\n",
        " * Encalsulation\n",
        " * Abstraction\n",
        " * Polymorphism\n",
        " * Inheritance\n"
      ],
      "metadata": {
        "id": "vxggR_sQIBMF"
      }
    },
    {
      "cell_type": "code",
      "source": [],
      "metadata": {
        "id": "4MnrsXB2H_pT"
      },
      "execution_count": null,
      "outputs": []
    }
  ]
}