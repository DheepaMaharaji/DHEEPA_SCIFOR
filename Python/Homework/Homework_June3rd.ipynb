{
  "nbformat": 4,
  "nbformat_minor": 0,
  "metadata": {
    "colab": {
      "provenance": [],
      "authorship_tag": "ABX9TyMA3ETl26KnFSi3a/nFmg68",
      "include_colab_link": true
    },
    "kernelspec": {
      "name": "python3",
      "display_name": "Python 3"
    },
    "language_info": {
      "name": "python"
    }
  },
  "cells": [
    {
      "cell_type": "markdown",
      "metadata": {
        "id": "view-in-github",
        "colab_type": "text"
      },
      "source": [
        "<a href=\"https://colab.research.google.com/github/DheepaMaharaji/DHEEPA_SCIFOR/blob/main/Python/Homework/Homework_June3rd.ipynb\" target=\"_parent\"><img src=\"https://colab.research.google.com/assets/colab-badge.svg\" alt=\"Open In Colab\"/></a>"
      ]
    },
    {
      "cell_type": "code",
      "source": [
        "class Subject:\n",
        "  def __init__(self):\n",
        "    self.attr1=\"Maths\"\n",
        "    self.attr2=\"Science\"\n",
        "\n",
        "obj = Subject()\n",
        "print(obj.attr1)\n",
        "print(obj.attr2)"
      ],
      "metadata": {
        "colab": {
          "base_uri": "https://localhost:8080/"
        },
        "id": "DFJuR7oy1oLZ",
        "outputId": "f4b94c5c-3ee9-4fdb-93ef-436ca205a6bd"
      },
      "execution_count": 20,
      "outputs": [
        {
          "output_type": "stream",
          "name": "stdout",
          "text": [
            "Maths\n",
            "Science\n"
          ]
        }
      ]
    },
    {
      "cell_type": "code",
      "source": [
        "class Person:\n",
        "  def __init__(self,x,y):\n",
        "    self.name=x\n",
        "    self.age=y\n",
        "person=Person(\"bob\",24)\n",
        "print(person.name)\n",
        "print(person.age)\n"
      ],
      "metadata": {
        "colab": {
          "base_uri": "https://localhost:8080/"
        },
        "id": "iwydFlzgF5pk",
        "outputId": "9866ca36-f931-46ad-fd07-a1635f81215c"
      },
      "execution_count": 21,
      "outputs": [
        {
          "output_type": "stream",
          "name": "stdout",
          "text": [
            "bob\n",
            "24\n"
          ]
        }
      ]
    },
    {
      "cell_type": "code",
      "source": [
        "class Employee:\n",
        "  def __init__(self,name,age,project,salary):\n",
        "    self.name=name\n",
        "    self.age=age\n",
        "    self._project=project\n",
        "    self.__salary=salary\n",
        "  def show_salary(self):\n",
        "    print(f\"The salary {self.name} is {self.__salary}\")\n",
        "\n",
        "employee= Employee(\"John\",25,\"Python\",70000)\n",
        "employee.show_salary()\n",
        "print(employee.name)\n",
        "print(employee.age)\n",
        "print(employee._project)\n",
        "#print(employee.__salary)"
      ],
      "metadata": {
        "colab": {
          "base_uri": "https://localhost:8080/"
        },
        "id": "mrmdCvRBKaQM",
        "outputId": "d13ce6e5-66e9-461b-947c-5c9d77482fa0"
      },
      "execution_count": 28,
      "outputs": [
        {
          "output_type": "stream",
          "name": "stdout",
          "text": [
            "The salary John is 70000\n",
            "John\n",
            "25\n",
            "Python\n"
          ]
        }
      ]
    },
    {
      "cell_type": "code",
      "execution_count": 18,
      "metadata": {
        "colab": {
          "base_uri": "https://localhost:8080/"
        },
        "id": "L9qwOwLVpWYE",
        "outputId": "911551a9-d1ef-47d8-b8a4-859840d3e62a"
      },
      "outputs": [
        {
          "output_type": "stream",
          "name": "stdout",
          "text": [
            "Calling protected member of base class:  2\n",
            "Calling modified protected member outside class:  3\n",
            "Calling private member of Derived class:  4\n"
          ]
        }
      ],
      "source": [
        "class Base:\n",
        "  def joy(self):\n",
        "    self._a=2\n",
        "    self.__c=5\n",
        "class Derived(Base):\n",
        "  def __init__(self2):\n",
        "    self2.__c=4\n",
        "    Base.joy(self2)\n",
        "    print(\"Calling protected member of base class: \",\n",
        "              self2._a)\n",
        "\n",
        "    self2._a=3\n",
        "    print(\"Calling modified protected member outside class: \",\n",
        "              self2._a)\n",
        "\n",
        "    print(\"Calling private member of Derived class: \",self2.__c)\n",
        "\n",
        "#obj1=Base()\n",
        "obj2=Derived()\n",
        "\n",
        ""
      ]
    },
    {
      "cell_type": "code",
      "source": [],
      "metadata": {
        "id": "6NykXb7lFyMR"
      },
      "execution_count": null,
      "outputs": []
    }
  ]
}