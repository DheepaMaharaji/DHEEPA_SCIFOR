{
  "nbformat": 4,
  "nbformat_minor": 0,
  "metadata": {
    "colab": {
      "provenance": [],
      "authorship_tag": "ABX9TyOLiQ82lWoHd0wSJQJELVdD",
      "include_colab_link": true
    },
    "kernelspec": {
      "name": "python3",
      "display_name": "Python 3"
    },
    "language_info": {
      "name": "python"
    }
  },
  "cells": [
    {
      "cell_type": "markdown",
      "metadata": {
        "id": "view-in-github",
        "colab_type": "text"
      },
      "source": [
        "<a href=\"https://colab.research.google.com/github/DheepaMaharaji/DHEEPA_SCIFOR/blob/main/Class_Assignment_11th_June.ipynb\" target=\"_parent\"><img src=\"https://colab.research.google.com/assets/colab-badge.svg\" alt=\"Open In Colab\"/></a>"
      ]
    },
    {
      "cell_type": "code",
      "execution_count": 30,
      "metadata": {
        "id": "cTStuEgEJ9yM"
      },
      "outputs": [],
      "source": [
        "class Bank:\n",
        "  def __init__(self,pin,balance):\n",
        "    self.__pin=pin\n",
        "    self.__balance=balance\n",
        "  def getPin(self):\n",
        "    return self.__pin\n",
        "  def getbalance(self):\n",
        "    return self.__balance\n",
        "  def setbalance(self,bal):\n",
        "    self.__balance=bal\n",
        "    print(f\"Existing balance is {self.__balance}\")\n",
        "  def withdrawal(self):\n",
        "    entered_pin=int(input(\"Enter pin \"))\n",
        "    amount=int(input(\"Enter an amount to be withdrawed \"))\n",
        "    if self.getPin()==entered_pin and self.__balance>=amount:\n",
        "      print(\"Withdrawal Success\")\n",
        "      self.setbalance(self.getbalance()-amount)\n",
        "    elif self.getbalance()<amount:\n",
        "      print(\"Not enough balance\")\n",
        "    else:\n",
        "      print(\"Wrong pin\")\n",
        "  def deposit(self):\n",
        "    entered_pin=int(input(\"Enter pin \"))\n",
        "    amount=int(input(\"Enter an amount to be deposit \"))\n",
        "    if self.getPin()==entered_pin:\n",
        "      print(\"Deposit is success\")\n",
        "      self.setbalance(self.getbalance()+amount)\n",
        "    else:\n",
        "      print(\"Wrong pin\")\n",
        "\n",
        "\n"
      ]
    },
    {
      "cell_type": "code",
      "source": [
        "\n",
        "b=Bank(1000,500000)"
      ],
      "metadata": {
        "id": "qzFlj3gGM-12"
      },
      "execution_count": 31,
      "outputs": []
    },
    {
      "cell_type": "code",
      "source": [
        "b.withdrawal()"
      ],
      "metadata": {
        "colab": {
          "base_uri": "https://localhost:8080/",
          "height": 0
        },
        "id": "nf_kfUReND3Q",
        "outputId": "3e27becd-3323-401a-c851-b491a8f8eff3"
      },
      "execution_count": 32,
      "outputs": [
        {
          "output_type": "stream",
          "name": "stdout",
          "text": [
            "Enter pin 1000\n",
            "Enter an amount to be withdrawed 500000\n",
            "Withdrawal Success\n",
            "Existing balance is 0\n"
          ]
        }
      ]
    },
    {
      "cell_type": "code",
      "source": [
        "b.deposit()"
      ],
      "metadata": {
        "colab": {
          "base_uri": "https://localhost:8080/",
          "height": 0
        },
        "id": "o7HAIX8MNKbd",
        "outputId": "14476b56-119c-40d7-93e4-5211d5c41680"
      },
      "execution_count": 33,
      "outputs": [
        {
          "output_type": "stream",
          "name": "stdout",
          "text": [
            "Enter pin 1000\n",
            "Enter an amount to be deposit 500000\n",
            "Deposit is success\n",
            "Existing balance is 500000\n"
          ]
        }
      ]
    },
    {
      "cell_type": "code",
      "source": [
        "b.withdrawal()"
      ],
      "metadata": {
        "colab": {
          "base_uri": "https://localhost:8080/",
          "height": 0
        },
        "id": "wZLHHY1XNZgr",
        "outputId": "61a6e003-50bb-4c7e-f727-d2b558be1eb7"
      },
      "execution_count": 34,
      "outputs": [
        {
          "output_type": "stream",
          "name": "stdout",
          "text": [
            "Enter pin 1000\n",
            "Enter an amount to be withdrawed 600000\n",
            "Not enough balance\n"
          ]
        }
      ]
    },
    {
      "cell_type": "code",
      "source": [],
      "metadata": {
        "id": "YN3u_GszQgIx"
      },
      "execution_count": null,
      "outputs": []
    }
  ]
}